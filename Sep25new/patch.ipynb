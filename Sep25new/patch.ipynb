{
 "cells": [
  {
   "cell_type": "code",
   "execution_count": 1,
   "metadata": {},
   "outputs": [],
   "source": [
    "from PIL import Image, ImageDraw\n",
    "%matplotlib inline\n",
    "import matplotlib.pyplot as plt\n",
    "import matplotlib.image as mpimg\n",
    "from matplotlib import transforms\n",
    "import cv2\n",
    "from pycocotools.coco import COCO\n",
    "\n",
    "import cv2\n",
    "\n",
    "from PIL import Image \n",
    "import random\n",
    "import os\n",
    "import numpy as np\n",
    "import random\n",
    "import skimage.transform\n"
   ]
  },
  {
   "cell_type": "code",
   "execution_count": 2,
   "metadata": {},
   "outputs": [],
   "source": [
    "#import zipfile\n",
    "#with zipfile.ZipFile('archive.zip', 'r') as zip_ref:\n",
    "#    zip_ref.extractall('huawei-working-folder/')"
   ]
  },
  {
   "cell_type": "code",
   "execution_count": 3,
   "metadata": {},
   "outputs": [],
   "source": [
    "def adjust_contrast_bri(contrast,brightness,img_ori):\n",
    "    img = img_ori\n",
    "    img = np.int16(img)\n",
    "    img = img * (contrast/127+1) - contrast + brightness\n",
    "    img = np.clip(img, 0, 255)\n",
    "    img = np.uint8(img)\n",
    "    return img\n",
    "\n",
    "# rndomly rorate the image within certain angle\n",
    "def rand_rotate(img,patch,angle_ran):\n",
    "    angle1 = np.random.randint(-angle_ran,angle_ran)\n",
    "    rotated_patch = skimage.transform.rotate(patch,angle = angle1)\n",
    "    #rotated_image1 = \n",
    "    return rotated_patch"
   ]
  },
  {
   "cell_type": "code",
   "execution_count": 4,
   "metadata": {},
   "outputs": [
    {
     "name": "stdout",
     "output_type": "stream",
     "text": [
      "loading annotations into memory...\n"
     ]
    },
    {
     "ename": "FileNotFoundError",
     "evalue": "[Errno 2] No such file or directory: '/home/hwjin/FLIR/FLIR_ADAS_1_3\\\\train/thermal_annotations.json'",
     "output_type": "error",
     "traceback": [
      "\u001b[1;31m---------------------------------------------------------------------------\u001b[0m",
      "\u001b[1;31mFileNotFoundError\u001b[0m                         Traceback (most recent call last)",
      "\u001b[1;32m<ipython-input-4-03f4d3a58317>\u001b[0m in \u001b[0;36m<module>\u001b[1;34m\u001b[0m\n\u001b[0;32m      2\u001b[0m \u001b[0mdataroot\u001b[0m \u001b[1;33m=\u001b[0m \u001b[1;34m'/home/hwjin/FLIR/FLIR_ADAS_1_3'\u001b[0m \u001b[1;33m+\u001b[0m \u001b[0mos\u001b[0m\u001b[1;33m.\u001b[0m\u001b[0msep\u001b[0m\u001b[1;33m\u001b[0m\u001b[1;33m\u001b[0m\u001b[0m\n\u001b[0;32m      3\u001b[0m \u001b[0mjsonfile\u001b[0m \u001b[1;33m=\u001b[0m \u001b[0mdataroot\u001b[0m \u001b[1;33m+\u001b[0m \u001b[0mdomain\u001b[0m \u001b[1;33m+\u001b[0m \u001b[1;34m'thermal_annotations.json'\u001b[0m\u001b[1;33m\u001b[0m\u001b[1;33m\u001b[0m\u001b[0m\n\u001b[1;32m----> 4\u001b[1;33m \u001b[0mcoco\u001b[0m \u001b[1;33m=\u001b[0m \u001b[0mCOCO\u001b[0m\u001b[1;33m(\u001b[0m\u001b[0mjsonfile\u001b[0m\u001b[1;33m)\u001b[0m \u001b[1;31m# coco class to view jsonfile\u001b[0m\u001b[1;33m\u001b[0m\u001b[1;33m\u001b[0m\u001b[0m\n\u001b[0m",
      "\u001b[1;32m~\\Anaconda3\\envs\\venv\\lib\\site-packages\\pycocotools\\coco.py\u001b[0m in \u001b[0;36m__init__\u001b[1;34m(self, annotation_file)\u001b[0m\n\u001b[0;32m     82\u001b[0m             \u001b[0mprint\u001b[0m\u001b[1;33m(\u001b[0m\u001b[1;34m'loading annotations into memory...'\u001b[0m\u001b[1;33m)\u001b[0m\u001b[1;33m\u001b[0m\u001b[1;33m\u001b[0m\u001b[0m\n\u001b[0;32m     83\u001b[0m             \u001b[0mtic\u001b[0m \u001b[1;33m=\u001b[0m \u001b[0mtime\u001b[0m\u001b[1;33m.\u001b[0m\u001b[0mtime\u001b[0m\u001b[1;33m(\u001b[0m\u001b[1;33m)\u001b[0m\u001b[1;33m\u001b[0m\u001b[1;33m\u001b[0m\u001b[0m\n\u001b[1;32m---> 84\u001b[1;33m             \u001b[1;32mwith\u001b[0m \u001b[0mopen\u001b[0m\u001b[1;33m(\u001b[0m\u001b[0mannotation_file\u001b[0m\u001b[1;33m,\u001b[0m \u001b[1;34m'r'\u001b[0m\u001b[1;33m)\u001b[0m \u001b[1;32mas\u001b[0m \u001b[0mf\u001b[0m\u001b[1;33m:\u001b[0m\u001b[1;33m\u001b[0m\u001b[1;33m\u001b[0m\u001b[0m\n\u001b[0m\u001b[0;32m     85\u001b[0m                 \u001b[0mdataset\u001b[0m \u001b[1;33m=\u001b[0m \u001b[0mjson\u001b[0m\u001b[1;33m.\u001b[0m\u001b[0mload\u001b[0m\u001b[1;33m(\u001b[0m\u001b[0mf\u001b[0m\u001b[1;33m)\u001b[0m\u001b[1;33m\u001b[0m\u001b[1;33m\u001b[0m\u001b[0m\n\u001b[0;32m     86\u001b[0m             \u001b[1;32massert\u001b[0m \u001b[0mtype\u001b[0m\u001b[1;33m(\u001b[0m\u001b[0mdataset\u001b[0m\u001b[1;33m)\u001b[0m\u001b[1;33m==\u001b[0m\u001b[0mdict\u001b[0m\u001b[1;33m,\u001b[0m \u001b[1;34m'annotation file format {} not supported'\u001b[0m\u001b[1;33m.\u001b[0m\u001b[0mformat\u001b[0m\u001b[1;33m(\u001b[0m\u001b[0mtype\u001b[0m\u001b[1;33m(\u001b[0m\u001b[0mdataset\u001b[0m\u001b[1;33m)\u001b[0m\u001b[1;33m)\u001b[0m\u001b[1;33m\u001b[0m\u001b[1;33m\u001b[0m\u001b[0m\n",
      "\u001b[1;31mFileNotFoundError\u001b[0m: [Errno 2] No such file or directory: '/home/hwjin/FLIR/FLIR_ADAS_1_3\\\\train/thermal_annotations.json'"
     ]
    }
   ],
   "source": [
    "domain ='train/'\n",
    "dataroot = '/home/hwjin/FLIR/FLIR_ADAS_1_3' + os.sep\n",
    "jsonfile = dataroot + domain + 'thermal_annotations.json'\n",
    "coco = COCO(jsonfile) # coco class to view jsonfile"
   ]
  },
  {
   "cell_type": "code",
   "execution_count": null,
   "metadata": {},
   "outputs": [],
   "source": [
    "def yolo_cc(file): #from yolo txt file to coco format\n",
    "    x = (x_yl-w_yl/2)*width #weight is the size of the image\n",
    "    y = (y_yl*height-h_yl/2)*height\n",
    "    w = w_yl*width\n",
    "    h = h_yl*height\n",
    "    return x,y,w,h\n",
    "\n",
    "def view_FLIR(ind): #input an image id\n",
    "    imInfo = coco.imgs[ind]\n",
    "    annIds = coco.getAnnIds(imgIds=imInfo['id']) #get annotations id of this image\n",
    "    imgfile = dataroot + domain + imInfo['file_name']\n",
    "\n",
    "    print(f'{imInfo} \\ncorresbonding annids is\\n{annIds}\\n')\n",
    "\n",
    "    anns = coco.loadAnns(annIds)#load the annotations information according to the anns id\n",
    "    if anns:\n",
    "        print(anns[0]) #show the first annotations\n",
    "    \n",
    "    img = cv2.imread(imgfile) #open the image file\n",
    "    im_ori = cv2.imread(imgfile)\n",
    "\n",
    "    for ann in anns:\n",
    "        x, y, w, h = ann['bbox']\n",
    "        cv2.rectangle(img, (x,y), (x + w, y + h), (255,0,0), 2)\n",
    "        cat = coco.loadCats(ann['category_id'])[0]['name']\n",
    "        cv2.putText(img, cat, (x,y), cv2.FONT_HERSHEY_SIMPLEX, 1, (0,0,255), 2)\n",
    "\n",
    "    plt.imshow(img)\n",
    "    plt.show()\n",
    "    return im_ori\n",
    "\n",
    "def multiple_gussians(centers, s, sig, box_size):\n",
    "    zeros = np.zeros((box_size[1],box_size[0]))\n",
    "    patch_sum = np.repeat(zeros[...,np.newaxis],3,axis = 2)\n",
    "    for idx in range(0,len(centers),2):\n",
    "        xc = centers[idx]-y\n",
    "        yc = centers[idx+1]-x\n",
    "        print(xc,yc)\n",
    "        patch = gaussian(xc,yc, s, sig, box_size)\n",
    "        patch_sum = patch_sum + patch\n",
    "    return patch_sum\n",
    "\n",
    "#uppder body patch, 1/5\n",
    "def patch_range(bbox,sigma):\n",
    "    #gaussian distribution beome zero after 2*sd\n",
    "    sigma_d = 2*sigma\n",
    "    #wb,hb are the highet width of the bonding box\n",
    "    xbb,ybb,wbb,hbb = person_ann['bbox']\n",
    "    #the patch box\n",
    "    sigma = int(sigma)\n",
    "    if sigma:\n",
    "        x,y,w,h = xbb-sigma_d,int(np.floor(ybb+hbb/7))-int(sigma_d),wbb+2*sigma_d,int(np.floor(hbb/5)+2*sigma_d)\n",
    "    elif sigma==0:\n",
    "        x,y,w,h = xbb,int(np.floor(ybb+hbb/7)),wbb,int(np.floor(hbb/5))\n",
    "    return x,y,w,h\n",
    "\n",
    "#txt file: label, center_x, certer_y,w,h\n",
    "def gaussian(xc,yc, s, sig, box_size): #xc, yc are coordinates respective to the bbox, xc<w;yc<h\n",
    "    patch_w = box_size[1]\n",
    "    patch_h = box_size[0]\n",
    "    gus_patch = np.zeros((patch_w,patch_h))\n",
    "    for xb in range(patch_w):\n",
    "        for yb in range(patch_h):            \n",
    "            r = (xb-xc)**2+(yb-yc)**2\n",
    "            gus_patch[xb][yb] = s*np.exp(-r/(2*sig**2))\n",
    "    gus_patch = np.repeat(gus_patch[...,np.newaxis],3,axis = 2)\n",
    "    return gus_patch\n",
    "\n",
    "def patched_image(im,patch,x,y,w,h):\n",
    "    im_p = im.astype('float')\n",
    "    im_p[y:y+h,x:x+w,:] = [a + b for a, b in zip(im[y:y+h,x:x+w,:], patch)]\n",
    "    #im = np.array(im)\n",
    "    #im_dp = im.astype(float)\n",
    "    #im_dp[y:y+h,x:x+w,:] = im_dp[y:y+h,x:x+w,:] + patch\n",
    "    #im_dp = [a + b for a, b in zip(im[y:y+h,x:x+w,:], patch)]\n",
    "    return im_p"
   ]
  },
  {
   "cell_type": "code",
   "execution_count": null,
   "metadata": {},
   "outputs": [],
   "source": []
  }
 ],
 "metadata": {
  "kernelspec": {
   "display_name": "Python 3",
   "language": "python",
   "name": "python3"
  },
  "language_info": {
   "codemirror_mode": {
    "name": "ipython",
    "version": 3
   },
   "file_extension": ".py",
   "mimetype": "text/x-python",
   "name": "python",
   "nbconvert_exporter": "python",
   "pygments_lexer": "ipython3",
   "version": "3.8.3"
  }
 },
 "nbformat": 4,
 "nbformat_minor": 4
}
